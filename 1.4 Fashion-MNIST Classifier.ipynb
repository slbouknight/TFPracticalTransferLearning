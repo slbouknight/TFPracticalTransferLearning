{
 "cells": [
  {
   "cell_type": "markdown",
   "metadata": {
    "colab_type": "text",
    "id": "oLhBdHYVdsqV"
   },
   "source": [
    "## Installs & Imports"
   ]
  },
  {
   "cell_type": "code",
   "execution_count": 0,
   "metadata": {
    "colab": {},
    "colab_type": "code",
    "id": "IfmFwonMX7K7"
   },
   "outputs": [],
   "source": [
    "# Activate TensorFlow 2.x version in Colab\n",
    "%tensorflow_version 2.x"
   ]
  },
  {
   "cell_type": "code",
   "execution_count": 0,
   "metadata": {
    "colab": {},
    "colab_type": "code",
    "id": "UxvIlJKIXqpE"
   },
   "outputs": [],
   "source": [
    "# Import TensorFlow and tf.keras\n",
    "import tensorflow as tf\n",
    "\n",
    "# Import Numpy & helper libraries\n",
    "import numpy as np\n",
    "import matplotlib.pyplot as plt"
   ]
  },
  {
   "cell_type": "markdown",
   "metadata": {
    "colab_type": "text",
    "id": "8pvnfpQddxw4"
   },
   "source": [
    "## Data"
   ]
  },
  {
   "cell_type": "markdown",
   "metadata": {
    "colab_type": "text",
    "id": "hcneuKWyd104"
   },
   "source": [
    "### 1. Load the Fashion-MNIST data"
   ]
  },
  {
   "cell_type": "code",
   "execution_count": 0,
   "metadata": {
    "colab": {},
    "colab_type": "code",
    "id": "OBy4AKUZYJZe"
   },
   "outputs": [],
   "source": [
    "# Load the fashion-mnist pre-shuffled train data and test data from tf.keras.datasets\n",
    "(train_images, train_labels), (test_images, test_labels) = tf.keras.datasets.fashion_mnist.load_data()"
   ]
  },
  {
   "cell_type": "markdown",
   "metadata": {
    "colab_type": "text",
    "id": "PAQRm4rWeLcY"
   },
   "source": [
    "\n",
    "### 2. Explore the Fashion-MNIST dataset"
   ]
  },
  {
   "cell_type": "code",
   "execution_count": 0,
   "metadata": {
    "colab": {
     "base_uri": "https://localhost:8080/",
     "height": 51
    },
    "colab_type": "code",
    "executionInfo": {
     "elapsed": 1567,
     "status": "ok",
     "timestamp": 1579922665016,
     "user": {
      "displayName": "Margaret Maynard-Reid",
      "photoUrl": "https://lh3.googleusercontent.com/a-/AAuE7mCR1rDsgDyr9riP9sGVuQmz2nQ1jKPI7QJrdRqmm9I=s64",
      "userId": "16644161164743621476"
     },
     "user_tz": 480
    },
    "id": "IejfZWPrYKSw",
    "outputId": "18d2aab5-026a-40c3-c568-bbaa10c92dd8"
   },
   "outputs": [
    {
     "name": "stdout",
     "output_type": "stream",
     "text": [
      "train_images shape: (60000, 28, 28) train_labels shape: (60000,)\n",
      "test_images shape: (10000, 28, 28) test_labels shape: (10000,)\n"
     ]
    }
   ],
   "source": [
    "# There are 60000 training examples with images (28x28) and corresponding labels\n",
    "print(\"train_images shape:\", train_images.shape, \"train_labels shape:\", train_labels.shape)\n",
    "print(\"test_images shape:\", test_images.shape, \"test_labels shape:\", test_labels.shape)"
   ]
  },
  {
   "cell_type": "markdown",
   "metadata": {
    "colab_type": "text",
    "id": "dPo0sOPxYZ_9"
   },
   "source": [
    "### 3. Data preprocessing"
   ]
  },
  {
   "cell_type": "code",
   "execution_count": 0,
   "metadata": {
    "colab": {},
    "colab_type": "code",
    "id": "cl-0nljie_kq"
   },
   "outputs": [],
   "source": [
    "# Convert data to float32 and normalize the input data\n",
    "train_images = train_images.astype('float32') / 255\n",
    "test_images= test_images.astype('float32') / 255"
   ]
  },
  {
   "cell_type": "code",
   "execution_count": 0,
   "metadata": {
    "colab": {},
    "colab_type": "code",
    "id": "sOZ0E8_efMd3"
   },
   "outputs": [],
   "source": [
    "# Reshape input data from (28, 28) to (28, 28, 1)\n",
    "train_images = train_images.reshape(train_images.shape[0], 28, 28, 1)\n",
    "test_images = test_images.reshape(test_images.shape[0], 28, 28, 1)"
   ]
  },
  {
   "cell_type": "code",
   "execution_count": 0,
   "metadata": {
    "colab": {
     "base_uri": "https://localhost:8080/",
     "height": 51
    },
    "colab_type": "code",
    "executionInfo": {
     "elapsed": 1688,
     "status": "ok",
     "timestamp": 1579922704542,
     "user": {
      "displayName": "Margaret Maynard-Reid",
      "photoUrl": "https://lh3.googleusercontent.com/a-/AAuE7mCR1rDsgDyr9riP9sGVuQmz2nQ1jKPI7QJrdRqmm9I=s64",
      "userId": "16644161164743621476"
     },
     "user_tz": 480
    },
    "id": "Tw_Jje7wzbZ1",
    "outputId": "163b275f-da92-44cd-ed6f-4a01dc93c748"
   },
   "outputs": [
    {
     "name": "stdout",
     "output_type": "stream",
     "text": [
      "train_images shape: (60000, 28, 28, 1) train_labels shape: (60000,)\n",
      "test_images shape: (10000, 28, 28, 1) test_labels shape: (10000,)\n"
     ]
    }
   ],
   "source": [
    "# Take a look the dataset shape after reshape\n",
    "print(\"train_images shape:\", train_images.shape, \"train_labels shape:\", train_labels.shape)\n",
    "print(\"test_images shape:\", test_images.shape, \"test_labels shape:\", test_labels.shape)"
   ]
  },
  {
   "cell_type": "code",
   "execution_count": 0,
   "metadata": {
    "colab": {},
    "colab_type": "code",
    "id": "VviB7FZryLJ1"
   },
   "outputs": [],
   "source": [
    "# One-hot encode the labels\n",
    "train_labels = tf.keras.utils.to_categorical(train_labels, 10)\n",
    "test_labels = tf.keras.utils.to_categorical(test_labels, 10)"
   ]
  },
  {
   "cell_type": "markdown",
   "metadata": {
    "colab_type": "text",
    "id": "tbqlCJjHxHvl"
   },
   "source": [
    "Model architecture"
   ]
  },
  {
   "cell_type": "code",
   "execution_count": 0,
   "metadata": {
    "colab": {},
    "colab_type": "code",
    "id": "TNQGL9Q6xeLX"
   },
   "outputs": [],
   "source": [
    "# Define a CNN with keras sequential model\n",
    "def create_model():\n",
    "  \n",
    "  # Define the model architecture\n",
    "  model = tf.keras.models.Sequential([\n",
    "    # Must define the input shape in the first layer of the neural network\n",
    "    tf.keras.layers.Conv2D(filters=32, kernel_size=3, padding='same', activation='relu', input_shape=(28,28,1)),\n",
    "    tf.keras.layers.MaxPooling2D(pool_size=2),\n",
    "    tf.keras.layers.Dropout(0.3),\n",
    "\n",
    "    tf.keras.layers.Conv2D(filters=64, kernel_size=3, padding='same', activation='relu'),\n",
    "    tf.keras.layers.MaxPooling2D(pool_size=2),\n",
    "    tf.keras.layers.Dropout(0.3),\n",
    "\n",
    "    tf.keras.layers.Flatten(),\n",
    "    tf.keras.layers.Dense(10, activation='softmax')\n",
    "  ])\n",
    "  \n",
    "  # Compile the model\n",
    "  model.compile(loss=tf.keras.losses.categorical_crossentropy,\n",
    "         optimizer=tf.keras.optimizers.Adam(),\n",
    "         metrics=['accuracy'])\n",
    "      \n",
    "  return model"
   ]
  },
  {
   "cell_type": "code",
   "execution_count": 0,
   "metadata": {
    "colab": {},
    "colab_type": "code",
    "id": "CjWB19kLxl96"
   },
   "outputs": [],
   "source": [
    "# Create model\n",
    "model = create_model()"
   ]
  },
  {
   "cell_type": "code",
   "execution_count": 0,
   "metadata": {
    "colab": {
     "base_uri": "https://localhost:8080/",
     "height": 425
    },
    "colab_type": "code",
    "executionInfo": {
     "elapsed": 1655,
     "status": "ok",
     "timestamp": 1579923080762,
     "user": {
      "displayName": "Margaret Maynard-Reid",
      "photoUrl": "https://lh3.googleusercontent.com/a-/AAuE7mCR1rDsgDyr9riP9sGVuQmz2nQ1jKPI7QJrdRqmm9I=s64",
      "userId": "16644161164743621476"
     },
     "user_tz": 480
    },
    "id": "zDd0mkV0xq0m",
    "outputId": "4ccb9f3c-758b-4042-8243-c130aabccec2"
   },
   "outputs": [
    {
     "name": "stdout",
     "output_type": "stream",
     "text": [
      "Model: \"sequential\"\n",
      "_________________________________________________________________\n",
      "Layer (type)                 Output Shape              Param #   \n",
      "=================================================================\n",
      "conv2d (Conv2D)              (None, 28, 28, 32)        320       \n",
      "_________________________________________________________________\n",
      "max_pooling2d (MaxPooling2D) (None, 14, 14, 32)        0         \n",
      "_________________________________________________________________\n",
      "dropout (Dropout)            (None, 14, 14, 32)        0         \n",
      "_________________________________________________________________\n",
      "conv2d_1 (Conv2D)            (None, 14, 14, 64)        18496     \n",
      "_________________________________________________________________\n",
      "max_pooling2d_1 (MaxPooling2 (None, 7, 7, 64)          0         \n",
      "_________________________________________________________________\n",
      "dropout_1 (Dropout)          (None, 7, 7, 64)          0         \n",
      "_________________________________________________________________\n",
      "flatten (Flatten)            (None, 3136)              0         \n",
      "_________________________________________________________________\n",
      "dense (Dense)                (None, 10)                31370     \n",
      "=================================================================\n",
      "Total params: 50,186\n",
      "Trainable params: 50,186\n",
      "Non-trainable params: 0\n",
      "_________________________________________________________________\n"
     ]
    }
   ],
   "source": [
    "# Inspect model architecture\n",
    "model.summary()"
   ]
  },
  {
   "cell_type": "code",
   "execution_count": 0,
   "metadata": {
    "colab": {
     "base_uri": "https://localhost:8080/",
     "height": 255
    },
    "colab_type": "code",
    "executionInfo": {
     "elapsed": 27078,
     "status": "ok",
     "timestamp": 1579923146756,
     "user": {
      "displayName": "Margaret Maynard-Reid",
      "photoUrl": "https://lh3.googleusercontent.com/a-/AAuE7mCR1rDsgDyr9riP9sGVuQmz2nQ1jKPI7QJrdRqmm9I=s64",
      "userId": "16644161164743621476"
     },
     "user_tz": 480
    },
    "id": "PZn9NCrYxvfL",
    "outputId": "f66729fc-75ef-4ae6-e3df-9393620b4687"
   },
   "outputs": [
    {
     "name": "stdout",
     "output_type": "stream",
     "text": [
      "Train on 60000 samples\n",
      "Epoch 1/5\n",
      "60000/60000 [==============================] - 11s 188us/sample - loss: 0.5424 - accuracy: 0.8042\n",
      "Epoch 2/5\n",
      "60000/60000 [==============================] - 4s 60us/sample - loss: 0.3715 - accuracy: 0.8684\n",
      "Epoch 3/5\n",
      "60000/60000 [==============================] - 4s 62us/sample - loss: 0.3312 - accuracy: 0.8817\n",
      "Epoch 4/5\n",
      "60000/60000 [==============================] - 4s 61us/sample - loss: 0.3041 - accuracy: 0.8909\n",
      "Epoch 5/5\n",
      "60000/60000 [==============================] - 4s 60us/sample - loss: 0.2897 - accuracy: 0.8965\n",
      "CPU times: user 22 s, sys: 3.38 s, total: 25.4 s\n",
      "Wall time: 26 s\n"
     ]
    },
    {
     "data": {
      "text/plain": [
       "<tensorflow.python.keras.callbacks.History at 0x7ff1306bd0b8>"
      ]
     },
     "execution_count": 21,
     "metadata": {
      "tags": []
     },
     "output_type": "execute_result"
    }
   ],
   "source": [
    "%%time \n",
    "model.fit(train_images,\n",
    "         train_labels,\n",
    "         batch_size=64,\n",
    "         epochs=5)"
   ]
  },
  {
   "cell_type": "code",
   "execution_count": 0,
   "metadata": {
    "colab": {
     "base_uri": "https://localhost:8080/",
     "height": 51
    },
    "colab_type": "code",
    "executionInfo": {
     "elapsed": 2013,
     "status": "ok",
     "timestamp": 1579923163713,
     "user": {
      "displayName": "Margaret Maynard-Reid",
      "photoUrl": "https://lh3.googleusercontent.com/a-/AAuE7mCR1rDsgDyr9riP9sGVuQmz2nQ1jKPI7QJrdRqmm9I=s64",
      "userId": "16644161164743621476"
     },
     "user_tz": 480
    },
    "id": "75_G-gwPxzHf",
    "outputId": "b02e4b95-ec70-45cf-e6fd-845750dcdc04"
   },
   "outputs": [
    {
     "name": "stdout",
     "output_type": "stream",
     "text": [
      "10000/10000 - 1s - loss: 0.2878 - accuracy: 0.9000\n"
     ]
    },
    {
     "data": {
      "text/plain": [
       "[0.2877770915865898, 0.9]"
      ]
     },
     "execution_count": 22,
     "metadata": {
      "tags": []
     },
     "output_type": "execute_result"
    }
   ],
   "source": [
    "model.evaluate(test_images,  test_labels, verbose=2)"
   ]
  },
  {
   "cell_type": "code",
   "execution_count": 0,
   "metadata": {
    "colab": {},
    "colab_type": "code",
    "id": "l9Nr-xE-FoS3"
   },
   "outputs": [],
   "source": []
  }
 ],
 "metadata": {
  "accelerator": "GPU",
  "colab": {
   "name": "1.4 Fashion-MNIST Classifier.ipynb",
   "provenance": []
  },
  "kernelspec": {
   "display_name": "Python 3 (ipykernel)",
   "language": "python",
   "name": "python3"
  },
  "language_info": {
   "codemirror_mode": {
    "name": "ipython",
    "version": 3
   },
   "file_extension": ".py",
   "mimetype": "text/x-python",
   "name": "python",
   "nbconvert_exporter": "python",
   "pygments_lexer": "ipython3",
   "version": "3.10.10"
  }
 },
 "nbformat": 4,
 "nbformat_minor": 1
}
